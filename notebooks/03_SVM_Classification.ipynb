{
 "cells": [
  {
   "cell_type": "markdown",
   "id": "01e458bc",
   "metadata": {},
   "source": [
    "# FGVC Aircraft — CNN feature extraction + SVM (faza 3)\n",
    "U ovoj fazi koristimo naučeni CNN kao ekstraktor obeležja (feature-a), a zatim treniramo SVM klasifikator\n",
    "nad tim obeležjima. Uporedimo rezultate sa CNN softmax baseline-om.\n"
   ]
  },
  {
   "cell_type": "code",
   "execution_count": 1,
   "id": "12c650e5",
   "metadata": {},
   "outputs": [
    {
     "name": "stdout",
     "output_type": "stream",
     "text": [
      "CWD: C:\\Users\\Emilija\\Desktop\\AircraftClassifier_CNN_SVM\\notebooks\n",
      "ROOT: C:\\Users\\Emilija\\Desktop\\AircraftClassifier_CNN_SVM\n",
      "src postoji: True\n",
      "data postoji: True\n",
      "PROC: C:\\Users\\Emilija\\Desktop\\AircraftClassifier_CNN_SVM\\data\\processed\n",
      "train.csv postoji: True\n",
      "val.csv   postoji: True\n",
      "test.csv  postoji: True\n"
     ]
    }
   ],
   "source": [
    "# === DIJAGNOSTIKA + ROBUSTAN ROOT/SRC/PROC SETUP ===\n",
    "import sys\n",
    "from pathlib import Path\n",
    "\n",
    "def find_project_root(start: Path) -> Path:\n",
    "    \"\"\"\n",
    "    Penje se naviše dok ne nađe folder koji sadrži 'src' i 'data' (ili dođe do diska).\n",
    "    Radi čak i ako je notebook pokrenut van 'notebooks/'.\n",
    "    \"\"\"\n",
    "    for p in [start, *start.parents]:\n",
    "        if (p / \"src\").exists() and (p / \"data\").exists():\n",
    "            return p\n",
    "    # fallback: ako postoji samo 'src'\n",
    "    for p in [start, *start.parents]:\n",
    "        if (p / \"src\").exists():\n",
    "            return p\n",
    "    return start  # poslednja nada\n",
    "\n",
    "CWD = Path.cwd().resolve()\n",
    "ROOT = find_project_root(CWD)\n",
    "\n",
    "if str(ROOT) not in sys.path:\n",
    "    sys.path.insert(0, str(ROOT))\n",
    "\n",
    "print(\"CWD:\", CWD)\n",
    "print(\"ROOT:\", ROOT)\n",
    "print(\"src postoji:\", (ROOT / \"src\").exists())\n",
    "print(\"data postoji:\", (ROOT / \"data\").exists())\n",
    "\n",
    "PROC = ROOT / \"data\" / \"processed\"\n",
    "print(\"PROC:\", PROC)\n",
    "print(\"train.csv postoji:\", (PROC / \"train.csv\").exists())\n",
    "print(\"val.csv   postoji:\", (PROC / \"val.csv\").exists())\n",
    "print(\"test.csv  postoji:\", (PROC / \"test.csv\").exists())"
   ]
  },
  {
   "cell_type": "code",
   "execution_count": 2,
   "id": "d35df998",
   "metadata": {},
   "outputs": [
    {
     "name": "stdout",
     "output_type": "stream",
     "text": [
      "Train/Val/Test veličine: 700 150 150\n",
      "Kolone: ['image', 'label', 'filepath']\n"
     ]
    }
   ],
   "source": [
    "# === LAKI IMPORTI (bez TF), PROVERA CSV ===\n",
    "import pandas as pd\n",
    "from src.preprocessing import make_datagens, flow_from_dataframe  # test da 'src' radi\n",
    "\n",
    "# koristi PROC iz prve ćelije\n",
    "train_df = pd.read_csv(PROC / \"train.csv\")\n",
    "val_df   = pd.read_csv(PROC / \"val.csv\")\n",
    "test_df  = pd.read_csv(PROC / \"test.csv\")\n",
    "\n",
    "print(\"Train/Val/Test veličine:\", len(train_df), len(val_df), len(test_df))\n",
    "print(\"Kolone:\", train_df.columns.tolist())\n"
   ]
  },
  {
   "cell_type": "code",
   "execution_count": 3,
   "id": "27ab7ba8",
   "metadata": {},
   "outputs": [
    {
     "name": "stdout",
     "output_type": "stream",
     "text": [
      "TF: 2.20.0\n"
     ]
    }
   ],
   "source": [
    "# === TEŽI IMPORT (TensorFlow) ===\n",
    "import tensorflow as tf\n",
    "from tensorflow.keras.models import load_model\n",
    "\n",
    "print(\"TF:\", tf.__version__)\n"
   ]
  },
  {
   "cell_type": "code",
   "execution_count": 5,
   "id": "475a7e7e",
   "metadata": {},
   "outputs": [
    {
     "name": "stdout",
     "output_type": "stream",
     "text": [
      "Found 700 validated image filenames belonging to 10 classes.\n",
      "Found 150 validated image filenames belonging to 10 classes.\n",
      "Found 150 validated image filenames belonging to 10 classes.\n",
      "Broj klasa: 10\n"
     ]
    }
   ],
   "source": [
    "IMG_SIZE = (128, 128)   # koristi istu veličinu kao u CNN treningu\n",
    "BATCH = 32\n",
    "\n",
    "# Bez augmentacije, i bez shuffle za sva tri\n",
    "_, eval_gen = make_datagens(img_size=IMG_SIZE)\n",
    "\n",
    "train_flow = flow_from_dataframe(eval_gen, train_df, img_size=IMG_SIZE, batch_size=BATCH, shuffle=False)\n",
    "val_flow   = flow_from_dataframe(eval_gen,  val_df,   img_size=IMG_SIZE, batch_size=BATCH, shuffle=False)\n",
    "test_flow  = flow_from_dataframe(eval_gen,  test_df,  img_size=IMG_SIZE, batch_size=BATCH, shuffle=False)\n",
    "\n",
    "print(\"Broj klasa:\", len(train_flow.class_indices))\n"
   ]
  },
  {
   "cell_type": "markdown",
   "id": "7f0a1d5e",
   "metadata": {},
   "source": [
    "## 1) Učitavanje CNN modela i kreiranje feature-extractora\n",
    "Učitavamo `cnn_baseline.h5` iz faze 2 i kao izlaz uzimamo pretposlednji Dense(128) sloj,\n",
    "koji koristimo kao vektor obeležja (feature) za SVM.\n"
   ]
  },
  {
   "cell_type": "code",
   "execution_count": null,
   "id": "192739e7",
   "metadata": {},
   "outputs": [
    {
     "name": "stderr",
     "output_type": "stream",
     "text": [
      "WARNING:absl:Compiled the loaded model, but the compiled metrics have yet to be built. `model.compile_metrics` will be empty until you train or evaluate the model.\n"
     ]
    },
    {
     "ename": "AttributeError",
     "evalue": "The layer sequential has never been called and thus has no defined input.",
     "output_type": "error",
     "traceback": [
      "\u001b[31m---------------------------------------------------------------------------\u001b[39m",
      "\u001b[31mAttributeError\u001b[39m                            Traceback (most recent call last)",
      "\u001b[36mCell\u001b[39m\u001b[36m \u001b[39m\u001b[32mIn[6]\u001b[39m\u001b[32m, line 9\u001b[39m\n\u001b[32m      6\u001b[39m cnn = load_model(MODEL_PATH)\n\u001b[32m      8\u001b[39m \u001b[38;5;66;03m# pretposlednji sloj je Dense(128)\u001b[39;00m\n\u001b[32m----> \u001b[39m\u001b[32m9\u001b[39m extractor = Model(inputs=\u001b[43mcnn\u001b[49m\u001b[43m.\u001b[49m\u001b[43minput\u001b[49m, outputs=cnn.layers[-\u001b[32m2\u001b[39m].output)\n\u001b[32m     10\u001b[39m extractor.summary()\n",
      "\u001b[36mFile \u001b[39m\u001b[32mc:\\Users\\Emilija\\Desktop\\AircraftClassifier_CNN_SVM\\.venv\\Lib\\site-packages\\keras\\src\\ops\\operation.py:275\u001b[39m, in \u001b[36mOperation.input\u001b[39m\u001b[34m(self)\u001b[39m\n\u001b[32m    265\u001b[39m \u001b[38;5;129m@property\u001b[39m\n\u001b[32m    266\u001b[39m \u001b[38;5;28;01mdef\u001b[39;00m\u001b[38;5;250m \u001b[39m\u001b[34minput\u001b[39m(\u001b[38;5;28mself\u001b[39m):\n\u001b[32m    267\u001b[39m \u001b[38;5;250m    \u001b[39m\u001b[33;03m\"\"\"Retrieves the input tensor(s) of a symbolic operation.\u001b[39;00m\n\u001b[32m    268\u001b[39m \n\u001b[32m    269\u001b[39m \u001b[33;03m    Only returns the tensor(s) corresponding to the *first time*\u001b[39;00m\n\u001b[32m   (...)\u001b[39m\u001b[32m    273\u001b[39m \u001b[33;03m        Input tensor or list of input tensors.\u001b[39;00m\n\u001b[32m    274\u001b[39m \u001b[33;03m    \"\"\"\u001b[39;00m\n\u001b[32m--> \u001b[39m\u001b[32m275\u001b[39m     \u001b[38;5;28;01mreturn\u001b[39;00m \u001b[38;5;28;43mself\u001b[39;49m\u001b[43m.\u001b[49m\u001b[43m_get_node_attribute_at_index\u001b[49m\u001b[43m(\u001b[49m\u001b[32;43m0\u001b[39;49m\u001b[43m,\u001b[49m\u001b[43m \u001b[49m\u001b[33;43m\"\u001b[39;49m\u001b[33;43minput_tensors\u001b[39;49m\u001b[33;43m\"\u001b[39;49m\u001b[43m,\u001b[49m\u001b[43m \u001b[49m\u001b[33;43m\"\u001b[39;49m\u001b[33;43minput\u001b[39;49m\u001b[33;43m\"\u001b[39;49m\u001b[43m)\u001b[49m\n",
      "\u001b[36mFile \u001b[39m\u001b[32mc:\\Users\\Emilija\\Desktop\\AircraftClassifier_CNN_SVM\\.venv\\Lib\\site-packages\\keras\\src\\ops\\operation.py:306\u001b[39m, in \u001b[36mOperation._get_node_attribute_at_index\u001b[39m\u001b[34m(self, node_index, attr, attr_name)\u001b[39m\n\u001b[32m    290\u001b[39m \u001b[38;5;250m\u001b[39m\u001b[33;03m\"\"\"Private utility to retrieves an attribute (e.g. inputs) from a node.\u001b[39;00m\n\u001b[32m    291\u001b[39m \n\u001b[32m    292\u001b[39m \u001b[33;03mThis is used to implement the properties:\u001b[39;00m\n\u001b[32m   (...)\u001b[39m\u001b[32m    303\u001b[39m \u001b[33;03m    The operation's attribute `attr` at the node of index `node_index`.\u001b[39;00m\n\u001b[32m    304\u001b[39m \u001b[33;03m\"\"\"\u001b[39;00m\n\u001b[32m    305\u001b[39m \u001b[38;5;28;01mif\u001b[39;00m \u001b[38;5;129;01mnot\u001b[39;00m \u001b[38;5;28mself\u001b[39m._inbound_nodes:\n\u001b[32m--> \u001b[39m\u001b[32m306\u001b[39m     \u001b[38;5;28;01mraise\u001b[39;00m \u001b[38;5;167;01mAttributeError\u001b[39;00m(\n\u001b[32m    307\u001b[39m         \u001b[33mf\u001b[39m\u001b[33m\"\u001b[39m\u001b[33mThe layer \u001b[39m\u001b[38;5;132;01m{\u001b[39;00m\u001b[38;5;28mself\u001b[39m.name\u001b[38;5;132;01m}\u001b[39;00m\u001b[33m has never been called \u001b[39m\u001b[33m\"\u001b[39m\n\u001b[32m    308\u001b[39m         \u001b[33mf\u001b[39m\u001b[33m\"\u001b[39m\u001b[33mand thus has no defined \u001b[39m\u001b[38;5;132;01m{\u001b[39;00mattr_name\u001b[38;5;132;01m}\u001b[39;00m\u001b[33m.\u001b[39m\u001b[33m\"\u001b[39m\n\u001b[32m    309\u001b[39m     )\n\u001b[32m    310\u001b[39m \u001b[38;5;28;01mif\u001b[39;00m \u001b[38;5;129;01mnot\u001b[39;00m \u001b[38;5;28mlen\u001b[39m(\u001b[38;5;28mself\u001b[39m._inbound_nodes) > node_index:\n\u001b[32m    311\u001b[39m     \u001b[38;5;28;01mraise\u001b[39;00m \u001b[38;5;167;01mValueError\u001b[39;00m(\n\u001b[32m    312\u001b[39m         \u001b[33mf\u001b[39m\u001b[33m\"\u001b[39m\u001b[33mAsked to get \u001b[39m\u001b[38;5;132;01m{\u001b[39;00mattr_name\u001b[38;5;132;01m}\u001b[39;00m\u001b[33m at node \u001b[39m\u001b[33m\"\u001b[39m\n\u001b[32m    313\u001b[39m         \u001b[33mf\u001b[39m\u001b[33m\"\u001b[39m\u001b[38;5;132;01m{\u001b[39;00mnode_index\u001b[38;5;132;01m}\u001b[39;00m\u001b[33m, but the operation has only \u001b[39m\u001b[33m\"\u001b[39m\n\u001b[32m    314\u001b[39m         \u001b[33mf\u001b[39m\u001b[33m\"\u001b[39m\u001b[38;5;132;01m{\u001b[39;00m\u001b[38;5;28mlen\u001b[39m(\u001b[38;5;28mself\u001b[39m._inbound_nodes)\u001b[38;5;132;01m}\u001b[39;00m\u001b[33m inbound nodes.\u001b[39m\u001b[33m\"\u001b[39m\n\u001b[32m    315\u001b[39m     )\n",
      "\u001b[31mAttributeError\u001b[39m: The layer sequential has never been called and thus has no defined input."
     ]
    }
   ],
   "source": [
    "# === Load model + robustno pravljenje extractora za Keras 3 ===\n",
    "from pathlib import Path\n",
    "import tensorflow as tf\n",
    "from tensorflow.keras.models import load_model\n",
    "from tensorflow.keras import Model, Sequential\n",
    "\n",
    "MODEL_PATH = Path(\"../models/cnn_baseline.h5\")   # ako preimenuješ u .keras, promeni ovde\n",
    "cnn = load_model(MODEL_PATH)\n",
    "\n",
    "# 1) Ako model nema definisan graph (inputs), \"pozovi\" ga na dummy tensora da se izgradi\n",
    "if not getattr(cnn, \"inputs\", None):\n",
    "    dummy = tf.zeros((1,) + IMG_SIZE + (3,), dtype=tf.float32)\n",
    "    _ = cnn(dummy, training=False)  # sada cnn.inputs i cnn.layers[*].output postoje\n",
    "\n",
    "# 2) Pokušaj standardni extractor (pretposlednji sloj)\n",
    "try:\n",
    "    extractor = Model(inputs=cnn.input, outputs=cnn.layers[-2].output)\n",
    "except Exception as e:\n",
    "    # Fallback: odseci poslednji Dense sloj (pretpostavka: zadnji je klasifikator)\n",
    "    feature_layers = cnn.layers[:-1]\n",
    "    extractor = Sequential(feature_layers)\n",
    "    # \"build\" da bi imao definisan izlazni shape\n",
    "    extractor.build((None,) + IMG_SIZE + (3,))\n",
    "    print(\"Extractor napravljen preko Sequential fallback-a:\", extractor.output_shape)\n",
    "\n",
    "extractor.summary()\n"
   ]
  }
 ],
 "metadata": {
  "kernelspec": {
   "display_name": ".venv",
   "language": "python",
   "name": "python3"
  },
  "language_info": {
   "codemirror_mode": {
    "name": "ipython",
    "version": 3
   },
   "file_extension": ".py",
   "mimetype": "text/x-python",
   "name": "python",
   "nbconvert_exporter": "python",
   "pygments_lexer": "ipython3",
   "version": "3.13.7"
  }
 },
 "nbformat": 4,
 "nbformat_minor": 5
}
